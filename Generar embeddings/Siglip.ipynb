{
  "cells": [
    {
      "cell_type": "markdown",
      "metadata": {
        "id": "AZeaMCCbtF9W"
      },
      "source": [
        "## Import libraries"
      ]
    },
    {
      "cell_type": "code",
      "execution_count": 1,
      "metadata": {
        "colab": {
          "base_uri": "https://localhost:8080/"
        },
        "id": "-6Crt5ktL1Eu",
        "outputId": "ee83894c-9af5-48a2-effa-a41ab5076453"
      },
      "outputs": [
        {
          "name": "stdout",
          "output_type": "stream",
          "text": [
            "Collecting lightfm\n",
            "  Downloading lightfm-1.17.tar.gz (316 kB)\n",
            "\u001b[?25l     \u001b[90m━━━━━━━━━━━━━━━━━━━━━━━━━━━━━━━━━━━━━━━━\u001b[0m \u001b[32m0.0/316.4 kB\u001b[0m \u001b[31m?\u001b[0m eta \u001b[36m-:--:--\u001b[0m\r\u001b[2K     \u001b[91m━━━━━━━━━━━━━━━━━━━━━━━━━━━━━━━━━━━━━━\u001b[0m\u001b[91m╸\u001b[0m\u001b[90m━\u001b[0m \u001b[32m307.2/316.4 kB\u001b[0m \u001b[31m11.0 MB/s\u001b[0m eta \u001b[36m0:00:01\u001b[0m\r\u001b[2K     \u001b[90m━━━━━━━━━━━━━━━━━━━━━━━━━━━━━━━━━━━━━━━━\u001b[0m \u001b[32m316.4/316.4 kB\u001b[0m \u001b[31m8.2 MB/s\u001b[0m eta \u001b[36m0:00:00\u001b[0m\n",
            "\u001b[?25h  Preparing metadata (setup.py) ... \u001b[?25l\u001b[?25hdone\n",
            "Requirement already satisfied: numpy in /usr/local/lib/python3.10/dist-packages (from lightfm) (1.26.4)\n",
            "Requirement already satisfied: scipy>=0.17.0 in /usr/local/lib/python3.10/dist-packages (from lightfm) (1.13.1)\n",
            "Requirement already satisfied: requests in /usr/local/lib/python3.10/dist-packages (from lightfm) (2.32.3)\n",
            "Requirement already satisfied: scikit-learn in /usr/local/lib/python3.10/dist-packages (from lightfm) (1.5.2)\n",
            "Requirement already satisfied: charset-normalizer<4,>=2 in /usr/local/lib/python3.10/dist-packages (from requests->lightfm) (3.4.0)\n",
            "Requirement already satisfied: idna<4,>=2.5 in /usr/local/lib/python3.10/dist-packages (from requests->lightfm) (3.10)\n",
            "Requirement already satisfied: urllib3<3,>=1.21.1 in /usr/local/lib/python3.10/dist-packages (from requests->lightfm) (2.2.3)\n",
            "Requirement already satisfied: certifi>=2017.4.17 in /usr/local/lib/python3.10/dist-packages (from requests->lightfm) (2024.8.30)\n",
            "Requirement already satisfied: joblib>=1.2.0 in /usr/local/lib/python3.10/dist-packages (from scikit-learn->lightfm) (1.4.2)\n",
            "Requirement already satisfied: threadpoolctl>=3.1.0 in /usr/local/lib/python3.10/dist-packages (from scikit-learn->lightfm) (3.5.0)\n",
            "Building wheels for collected packages: lightfm\n",
            "  Building wheel for lightfm (setup.py) ... \u001b[?25l\u001b[?25hdone\n",
            "  Created wheel for lightfm: filename=lightfm-1.17-cp310-cp310-linux_x86_64.whl size=806104 sha256=531a091bb73e28b65e909973af4935c5d48052dbbf82840ea02f438a111dab0d\n",
            "  Stored in directory: /root/.cache/pip/wheels/4f/9b/7e/0b256f2168511d8fa4dae4fae0200fdbd729eb424a912ad636\n",
            "Successfully built lightfm\n",
            "Installing collected packages: lightfm\n",
            "Successfully installed lightfm-1.17\n"
          ]
        }
      ],
      "source": [
        "!pip install lightfm"
      ]
    },
    {
      "cell_type": "code",
      "execution_count": 2,
      "metadata": {
        "id": "a9lB6hASkFVs"
      },
      "outputs": [],
      "source": [
        "import numpy as np\n",
        "import pandas as pd\n",
        "from collections import Counter, defaultdict\n",
        "from sklearn.preprocessing import normalize\n",
        "from scipy.sparse import coo_matrix, csr_matrix\n",
        "from sklearn.model_selection import train_test_split\n",
        "from lightfm import LightFM\n",
        "from lightfm.evaluation import precision_at_k, recall_at_k, auc_score\n",
        "import kagglehub"
      ]
    },
    {
      "cell_type": "code",
      "execution_count": 3,
      "metadata": {
        "id": "nj4i72XxwKTj"
      },
      "outputs": [],
      "source": [
        "from lightfm.data import Dataset"
      ]
    },
    {
      "cell_type": "code",
      "execution_count": 4,
      "metadata": {
        "id": "T85putt2ouoc"
      },
      "outputs": [],
      "source": [
        "from transformers import SiglipModel, SiglipProcessor\n",
        "from transformers import CLIPProcessor, CLIPModel\n",
        "from transformers import BlipProcessor, BlipModel\n",
        "from transformers import ViltProcessor, ViltModel\n",
        "from sklearn.preprocessing import normalize\n",
        "from collections import Counter\n",
        "import torch\n",
        "import kagglehub\n",
        "import requests\n",
        "import os\n",
        "from PIL import Image\n",
        "import pandas as pd\n",
        "from scipy.sparse import csr_matrix\n",
        "from sklearn.preprocessing import normalize\n",
        "from lightfm import LightFM\n",
        "from lightfm.evaluation import precision_at_k, recall_at_k, auc_score\n",
        "from collections import defaultdict\n",
        "import numpy as np\n",
        "import torch.nn as nn\n",
        "from scipy.sparse import lil_matrix"
      ]
    },
    {
      "cell_type": "markdown",
      "metadata": {
        "id": "tbo_1cYOtIwC"
      },
      "source": [
        "## Load and filter dataset"
      ]
    },
    {
      "cell_type": "code",
      "execution_count": 5,
      "metadata": {
        "colab": {
          "base_uri": "https://localhost:8080/"
        },
        "id": "YEKslWgBka8u",
        "outputId": "33b4fbdb-83ea-4277-a915-5f4a6b0544f9"
      },
      "outputs": [
        {
          "name": "stdout",
          "output_type": "stream",
          "text": [
            "Downloading from https://www.kaggle.com/api/v1/datasets/download/threnjen/board-games-database-from-boardgamegeek?dataset_version_number=4...\n"
          ]
        },
        {
          "name": "stderr",
          "output_type": "stream",
          "text": [
            "100%|██████████| 148M/148M [00:01<00:00, 78.4MB/s]"
          ]
        },
        {
          "name": "stdout",
          "output_type": "stream",
          "text": [
            "Extracting files...\n"
          ]
        },
        {
          "name": "stderr",
          "output_type": "stream",
          "text": [
            "\n"
          ]
        },
        {
          "name": "stdout",
          "output_type": "stream",
          "text": [
            "Path to dataset files: /root/.cache/kagglehub/datasets/threnjen/board-games-database-from-boardgamegeek/versions/4\n"
          ]
        }
      ],
      "source": [
        "path = kagglehub.dataset_download(\"threnjen/board-games-database-from-boardgamegeek/versions/4\")\n",
        "print(\"Path to dataset files:\", path)"
      ]
    },
    {
      "cell_type": "code",
      "execution_count": 6,
      "metadata": {
        "colab": {
          "base_uri": "https://localhost:8080/"
        },
        "id": "hzoaF2A6kjqG",
        "outputId": "7b63be3e-0251-4c3f-da83-e499053bc361"
      },
      "outputs": [
        {
          "name": "stdout",
          "output_type": "stream",
          "text": [
            "/root/.cache/kagglehub/datasets/threnjen/board-games-database-from-boardgamegeek/versions/4\n"
          ]
        }
      ],
      "source": [
        "%cd /root/.cache/kagglehub/datasets/threnjen/board-games-database-from-boardgamegeek/versions/4"
      ]
    },
    {
      "cell_type": "code",
      "execution_count": 7,
      "metadata": {
        "id": "XSzKe_0goyfr"
      },
      "outputs": [],
      "source": [
        "games_df = pd.read_csv(\"games.csv\")\n",
        "user_ratings_df = pd.read_csv(\"user_ratings.csv\")"
      ]
    },
    {
      "cell_type": "code",
      "execution_count": 8,
      "metadata": {
        "colab": {
          "base_uri": "https://localhost:8080/"
        },
        "id": "bNJQRt8WozMZ",
        "outputId": "f3c9448b-cb3b-4244-c2be-c1570179e057"
      },
      "outputs": [
        {
          "name": "stdout",
          "output_type": "stream",
          "text": [
            "Ejemplo de descripciones:\n",
            "['die macher game seven sequential political race different region germany player charge national political party manage limited resource help party victory win party victory point regional election different way score victory point regional election supply eighty victory point depend size region party second party win regional election medium influence region party receive mediacontrol victory point party national party membership grow game progress supply fair number victory point lastly party score victory point party platform match national opinion end gamethe   edition feature party old west germany support   player   edition support player reunite germany update feature rule     edition support player add short fiveround variant additional rule update original designer', 'dragonmaster tricktaking card game base old game call coup dtat player give supply plastic gem represent point player dealer different hand slightly different goal hand card deal dealer decide hand good suit current card player penalize point form crystal take certain trick card instance quotfirstquot quotlastquot call player penalize take trick player chance dealer hand player steal opportunity take trick certain hand end big pile gem win gamejewel content clear   extra green   extra red   extra blue   extra', 'samurai set medieval japan player compete gain favor faction samurai peasant priest represent helmet rice paddy buddha figure scatter board feature island japan competition wage use hexagonal tile help curry favor faction mdash player lightningquick strike horseback ronin ship approach conquest methodically figure helmet rice paddy buddha surround award player gain favor corresponding groupgameplay continue symbol type remove board figure remove play tie influenceat end game player compare capture symbol type compete majority type tie uncommon break base number quotnonmajorityquot symbol player collectedthe game call knizia tilelaye trilogy', 'triangular box luxurious large block tal der koumlnige german quotvalley kingsquot tell game design beautiful functional   object game build pyramid different color block   pyramid score point color hard consistently outbid player necessary block   game pharoah pyramid center complete build block player nt use course gamefinal round   hippodice spieleautorenwettbewerb', 'acquire player strategically invest business try retain majority stock   business grow tile placement start merge give majority stockholder acquire business sizable bonus reinvest chain   investor acquire company cash stock current value trade share newer large business   game race acquire great wealthhistory acquire sid sackson classic take different form year depend publisher rule game play stay   version m bookshelf edition include rule player variant original version m bookshelf seriesmany book website incorrectly list   publication m company previously copyright artwork release game   m actually receive idea game quotvacationsquot sid sackson   decide idea artwork develop year game call quotacquirequot ms original game idea game call acquire good decide sid idea vacation concept acquire release limited test market game   midwestern city december   box   copyright game sid original rule m release mass market game   take liberty sid original idea change rule game play match production desire release outer box copyright   inner box rule date december    test market world map wood tile edition   date   wood tile chipboard plastic overlay amp stock print back   date   plastic tile chipboard plastic overlay amp stock print back edition print back    date   plastic tile chipboard plastic overlay amp nonwax coat stock edition stock   date   plastic tile clear plastic board paper underlay   inner box game lot mixed part   date   plastic tile yellow hard plastic board   m sell right game acquire avalon hill company   date   plastic tile yellow hard plastic board redesign money inner box edition produce            amp    date   gray box edition new box artwork content regular   edition edition produce    date   large box cardboard edition chipboard board tile special power variant tile inspire german edition   avalon hill sell right game acquire hasbro   date   large box large plastic board tile d company building redesign stock amp money large info card   hasbro assign right game acquire subsidiary wizard coast   lloyd rule acquire public major rule change help bring balance game acquire   intention sid sackson original idea    date   cardboard edition chipboard board amp tile redesign stock amp money   date   current affordable massmarket edition look sight similar previous modern edition criticise use inferior design choice hardtoread greyongrey emboss slot unusual tile font contain modify rule slightly small playing grid change criticise ultimately improve sackson original design generally regard damaging']\n",
            "\n",
            "Ejemplo de rutas de imágenes:\n",
            "['https://cf.geekdo-images.com/rpwCZAjYLD940NWwP3SRoA__original/img/yR0aoBVKNrAmmCuBeSzQnMflLYg=/0x0/filters:format(jpeg)/pic4718279.jpg', 'https://cf.geekdo-images.com/oQYhaJx5Lg3KcGis2reuWQ__original/img/owag4VgJDPyPt2ciYB9Hc5l4GnQ=/0x0/filters:format(jpeg)/pic4001505.jpg', 'https://cf.geekdo-images.com/o9-sNXmFS_TLAb7ZlZ4dRA__original/img/TPKZgpNxB_C73RNbhKyP6UR76X0=/0x0/filters:format(jpeg)/pic3211873.jpg', 'https://cf.geekdo-images.com/nYiYhUlatT2DpyXaJqXK3w__original/img/2NNluROL0K_q4H8yMxIyoiHXnxc=/0x0/filters:format(jpeg)/pic285299.jpg', 'https://cf.geekdo-images.com/3C--kJRhi6kTPHsr9dNaWw__original/img/WeRigNSL9w0EP12b2EJfpHoh4M0=/0x0/filters:format(jpeg)/pic3299296.jpg']\n"
          ]
        }
      ],
      "source": [
        "games_df_filtered = games_df[[\"Description\", \"ImagePath\"]].dropna()\n",
        "texts = games_df_filtered[\"Description\"].tolist()\n",
        "image_paths = games_df_filtered[\"ImagePath\"].tolist()\n",
        "\n",
        "print(\"Ejemplo de descripciones:\")\n",
        "print(texts[:5])\n",
        "print(\"\\nEjemplo de rutas de imágenes:\")\n",
        "print(image_paths[:5])"
      ]
    },
    {
      "cell_type": "code",
      "execution_count": 9,
      "metadata": {
        "colab": {
          "base_uri": "https://localhost:8080/"
        },
        "id": "ZQgTESAJo18f",
        "outputId": "9fda8ff5-977f-4076-d478-89947250a239"
      },
      "outputs": [
        {
          "name": "stderr",
          "output_type": "stream",
          "text": [
            "/usr/local/lib/python3.10/dist-packages/PIL/Image.py:1054: UserWarning: Palette images with Transparency expressed in bytes should be converted to RGBA images\n",
            "  warnings.warn(\n"
          ]
        }
      ],
      "source": [
        "def load_images_from_urls(image_urls):\n",
        "    images = []\n",
        "    for url in image_urls:\n",
        "        response = requests.get(url, stream=True)\n",
        "        if response.status_code == 200:\n",
        "            image = Image.open(response.raw).convert(\"RGB\")\n",
        "            images.append(image)\n",
        "        else:\n",
        "            print(f\"Failed to load image from: {url}\")\n",
        "    return images\n",
        "\n",
        "num_samples = 100\n",
        "images = load_images_from_urls(image_paths[:num_samples])"
      ]
    },
    {
      "cell_type": "markdown",
      "metadata": {
        "id": "LydoYiMbtREs"
      },
      "source": [
        "## Generate Siglip embeddings"
      ]
    },
    {
      "cell_type": "code",
      "execution_count": 19,
      "metadata": {
        "colab": {
          "base_uri": "https://localhost:8080/",
          "height": 81,
          "referenced_widgets": [
            "552023de6d9d431da24190cf8a0f539f",
            "addd83863a7e4930848fc3bdc2c60d65",
            "bb0b0e3e94734938bec1652e6d3b7933",
            "0c18aabde78d4d97bd0a12fa5b4b4e13",
            "826ddc7ca5fe494a82272bac0dcf3bbc",
            "f69ac39fd09149cc800320b465ed4197",
            "f570e2127dc64c6ea50ca0aeb78e7749",
            "de6211049aa348e9ad5ae60eb628038a",
            "fc8c166b6e7e4d8a94c5a0bd28a5f499",
            "40133e9c8f3944748987bcc1f3b3bd56",
            "b5386d133d1b4e7aa9e5f9e4994a5f68",
            "24c8116bb0694888acf5f57e880bf148",
            "a150327a9a564aa28f53b2e276f8c91b",
            "ff6aacffdf444fbb9bb2b68209329b99",
            "23a724e09cc84345a303fec91a5964c2",
            "b80208e9e90d49ad9dd14ee433bd2932",
            "c94cb78f296e4e48b1043976d813ea5b",
            "8d30a7d3db6446ec97ee25dc78c02209",
            "085cd36043f14f19bb333637634d2341",
            "480471c1b49b43ff80df3ac4638ec548",
            "2798593fc5704751bdb75ddc050ff44e",
            "7d8893ce52bd47a5b592b16b3a7e551c"
          ]
        },
        "id": "F647B6blo4JT",
        "outputId": "ddc6f024-cd2f-45b3-d389-759247cd025f"
      },
      "outputs": [
        {
          "data": {
            "application/vnd.jupyter.widget-view+json": {
              "model_id": "552023de6d9d431da24190cf8a0f539f",
              "version_major": 2,
              "version_minor": 0
            },
            "text/plain": [
              "config.json:   0%|          | 0.00/432 [00:00<?, ?B/s]"
            ]
          },
          "metadata": {},
          "output_type": "display_data"
        },
        {
          "data": {
            "application/vnd.jupyter.widget-view+json": {
              "model_id": "24c8116bb0694888acf5f57e880bf148",
              "version_major": 2,
              "version_minor": 0
            },
            "text/plain": [
              "model.safetensors:   0%|          | 0.00/813M [00:00<?, ?B/s]"
            ]
          },
          "metadata": {},
          "output_type": "display_data"
        }
      ],
      "source": [
        "model_name = \"google/siglip-base-patch16-224\"\n",
        "model = SiglipModel.from_pretrained(model_name)\n",
        "processor = SiglipProcessor.from_pretrained(model_name)"
      ]
    },
    {
      "cell_type": "code",
      "execution_count": null,
      "metadata": {
        "id": "UeX7LILxo8gd"
      },
      "outputs": [],
      "source": [
        "def generate_siglip_embeddings(texts, images):\n",
        "    text_embeds = []\n",
        "    image_embeds = []\n",
        "    multimodal_embeds = []\n",
        "\n",
        "    for text, image in zip(texts, images):\n",
        "        inputs = processor(\n",
        "            text=texts,\n",
        "            images=images,\n",
        "            return_tensors=\"pt\",\n",
        "            padding=\"max_length\",\n",
        "            truncation=True,\n",
        "            max_length=64\n",
        "        )\n",
        "\n",
        "        with torch.no_grad():\n",
        "            outputs = model(**inputs)\n",
        "\n",
        "        text_embeds.append(outputs.text_embeds[0])\n",
        "        image_embeds.append(outputs.image_embeds[0])\n",
        "        multimodal_embeds.append(outputs.text_embeds[0] + outputs.image_embeds[0])\n",
        "\n",
        "    return torch.stack(text_embeds), torch.stack(image_embeds), torch.stack(multimodal_embeds)\n",
        "\n",
        "siglip_text_embeds, siglip_image_embeds, siglip_multimodal_embeds = generate_siglip_embeddings(texts[:num_samples], images)\n",
        "\n",
        "print(f\"Embeddings de texto: {siglip_text_embeds.shape}\")\n",
        "print(f\"Embeddings de imágenes: {siglip_image_embeds.shape}\")\n",
        "print(f\"Embeddings multimodales: {siglip_multimodal_embeds.shape}\")"
      ]
    },
    {
      "cell_type": "code",
      "execution_count": null,
      "metadata": {
        "id": "MZzspqpQC9O4"
      },
      "outputs": [],
      "source": [
        "import torch\n",
        "\n",
        "# Save embeddings to files\n",
        "torch.save(siglip_text_embeds, \"SIGLIP_text_embeddings.pt\")\n",
        "torch.save(siglip_image_embeds, \"SIGLIP_image_embeddings.pt\")\n",
        "torch.save(siglip_multimodal_embeds, \"SIGLIP_multimodal_embeddings.pt\")\n",
        "\n",
        "# Optionally, move files to Google Drive for persistence\n",
        "from google.colab import drive\n",
        "drive.mount('/content/drive')\n",
        "!cp text_embeddings.pt /content/drive/MyDrive/\n",
        "!cp image_embeddings.pt /content/drive/MyDrive/\n",
        "!cp multimodal_embeddings.pt /content/drive/MyDrive/\n"
      ]
    },
    {
      "attachments": {},
      "cell_type": "markdown",
      "metadata": {},
      "source": [
        "## Bibliografía"
      ]
    },
    {
      "attachments": {},
      "cell_type": "markdown",
      "metadata": {},
      "source": [
        "[Siglip - HuggingFace](https://huggingface.co/docs/transformers/model_doc/siglip)"
      ]
    }
  ],
  "metadata": {
    "accelerator": "GPU",
    "colab": {
      "gpuType": "T4",
      "provenance": []
    },
    "kernelspec": {
      "display_name": "Python 3",
      "language": "python",
      "name": "python3"
    },
    "language_info": {
      "name": "python",
      "version": "3.11.3 (v3.11.3:f3909b8bc8, Apr  4 2023, 20:12:10) [Clang 13.0.0 (clang-1300.0.29.30)]"
    },
    "vscode": {
      "interpreter": {
        "hash": "1a1af0ee75eeea9e2e1ee996c87e7a2b11a0bebd85af04bb136d915cefc0abce"
      }
    },
    "widgets": {
      "application/vnd.jupyter.widget-state+json": {
        "085cd36043f14f19bb333637634d2341": {
          "model_module": "@jupyter-widgets/base",
          "model_module_version": "1.2.0",
          "model_name": "LayoutModel",
          "state": {
            "_model_module": "@jupyter-widgets/base",
            "_model_module_version": "1.2.0",
            "_model_name": "LayoutModel",
            "_view_count": null,
            "_view_module": "@jupyter-widgets/base",
            "_view_module_version": "1.2.0",
            "_view_name": "LayoutView",
            "align_content": null,
            "align_items": null,
            "align_self": null,
            "border": null,
            "bottom": null,
            "display": null,
            "flex": null,
            "flex_flow": null,
            "grid_area": null,
            "grid_auto_columns": null,
            "grid_auto_flow": null,
            "grid_auto_rows": null,
            "grid_column": null,
            "grid_gap": null,
            "grid_row": null,
            "grid_template_areas": null,
            "grid_template_columns": null,
            "grid_template_rows": null,
            "height": null,
            "justify_content": null,
            "justify_items": null,
            "left": null,
            "margin": null,
            "max_height": null,
            "max_width": null,
            "min_height": null,
            "min_width": null,
            "object_fit": null,
            "object_position": null,
            "order": null,
            "overflow": null,
            "overflow_x": null,
            "overflow_y": null,
            "padding": null,
            "right": null,
            "top": null,
            "visibility": null,
            "width": null
          }
        },
        "0c18aabde78d4d97bd0a12fa5b4b4e13": {
          "model_module": "@jupyter-widgets/controls",
          "model_module_version": "1.5.0",
          "model_name": "HTMLModel",
          "state": {
            "_dom_classes": [],
            "_model_module": "@jupyter-widgets/controls",
            "_model_module_version": "1.5.0",
            "_model_name": "HTMLModel",
            "_view_count": null,
            "_view_module": "@jupyter-widgets/controls",
            "_view_module_version": "1.5.0",
            "_view_name": "HTMLView",
            "description": "",
            "description_tooltip": null,
            "layout": "IPY_MODEL_40133e9c8f3944748987bcc1f3b3bd56",
            "placeholder": "​",
            "style": "IPY_MODEL_b5386d133d1b4e7aa9e5f9e4994a5f68",
            "value": " 432/432 [00:00&lt;00:00, 14.3kB/s]"
          }
        },
        "23a724e09cc84345a303fec91a5964c2": {
          "model_module": "@jupyter-widgets/controls",
          "model_module_version": "1.5.0",
          "model_name": "HTMLModel",
          "state": {
            "_dom_classes": [],
            "_model_module": "@jupyter-widgets/controls",
            "_model_module_version": "1.5.0",
            "_model_name": "HTMLModel",
            "_view_count": null,
            "_view_module": "@jupyter-widgets/controls",
            "_view_module_version": "1.5.0",
            "_view_name": "HTMLView",
            "description": "",
            "description_tooltip": null,
            "layout": "IPY_MODEL_2798593fc5704751bdb75ddc050ff44e",
            "placeholder": "​",
            "style": "IPY_MODEL_7d8893ce52bd47a5b592b16b3a7e551c",
            "value": " 813M/813M [00:11&lt;00:00, 129MB/s]"
          }
        },
        "24c8116bb0694888acf5f57e880bf148": {
          "model_module": "@jupyter-widgets/controls",
          "model_module_version": "1.5.0",
          "model_name": "HBoxModel",
          "state": {
            "_dom_classes": [],
            "_model_module": "@jupyter-widgets/controls",
            "_model_module_version": "1.5.0",
            "_model_name": "HBoxModel",
            "_view_count": null,
            "_view_module": "@jupyter-widgets/controls",
            "_view_module_version": "1.5.0",
            "_view_name": "HBoxView",
            "box_style": "",
            "children": [
              "IPY_MODEL_a150327a9a564aa28f53b2e276f8c91b",
              "IPY_MODEL_ff6aacffdf444fbb9bb2b68209329b99",
              "IPY_MODEL_23a724e09cc84345a303fec91a5964c2"
            ],
            "layout": "IPY_MODEL_b80208e9e90d49ad9dd14ee433bd2932"
          }
        },
        "2798593fc5704751bdb75ddc050ff44e": {
          "model_module": "@jupyter-widgets/base",
          "model_module_version": "1.2.0",
          "model_name": "LayoutModel",
          "state": {
            "_model_module": "@jupyter-widgets/base",
            "_model_module_version": "1.2.0",
            "_model_name": "LayoutModel",
            "_view_count": null,
            "_view_module": "@jupyter-widgets/base",
            "_view_module_version": "1.2.0",
            "_view_name": "LayoutView",
            "align_content": null,
            "align_items": null,
            "align_self": null,
            "border": null,
            "bottom": null,
            "display": null,
            "flex": null,
            "flex_flow": null,
            "grid_area": null,
            "grid_auto_columns": null,
            "grid_auto_flow": null,
            "grid_auto_rows": null,
            "grid_column": null,
            "grid_gap": null,
            "grid_row": null,
            "grid_template_areas": null,
            "grid_template_columns": null,
            "grid_template_rows": null,
            "height": null,
            "justify_content": null,
            "justify_items": null,
            "left": null,
            "margin": null,
            "max_height": null,
            "max_width": null,
            "min_height": null,
            "min_width": null,
            "object_fit": null,
            "object_position": null,
            "order": null,
            "overflow": null,
            "overflow_x": null,
            "overflow_y": null,
            "padding": null,
            "right": null,
            "top": null,
            "visibility": null,
            "width": null
          }
        },
        "40133e9c8f3944748987bcc1f3b3bd56": {
          "model_module": "@jupyter-widgets/base",
          "model_module_version": "1.2.0",
          "model_name": "LayoutModel",
          "state": {
            "_model_module": "@jupyter-widgets/base",
            "_model_module_version": "1.2.0",
            "_model_name": "LayoutModel",
            "_view_count": null,
            "_view_module": "@jupyter-widgets/base",
            "_view_module_version": "1.2.0",
            "_view_name": "LayoutView",
            "align_content": null,
            "align_items": null,
            "align_self": null,
            "border": null,
            "bottom": null,
            "display": null,
            "flex": null,
            "flex_flow": null,
            "grid_area": null,
            "grid_auto_columns": null,
            "grid_auto_flow": null,
            "grid_auto_rows": null,
            "grid_column": null,
            "grid_gap": null,
            "grid_row": null,
            "grid_template_areas": null,
            "grid_template_columns": null,
            "grid_template_rows": null,
            "height": null,
            "justify_content": null,
            "justify_items": null,
            "left": null,
            "margin": null,
            "max_height": null,
            "max_width": null,
            "min_height": null,
            "min_width": null,
            "object_fit": null,
            "object_position": null,
            "order": null,
            "overflow": null,
            "overflow_x": null,
            "overflow_y": null,
            "padding": null,
            "right": null,
            "top": null,
            "visibility": null,
            "width": null
          }
        },
        "480471c1b49b43ff80df3ac4638ec548": {
          "model_module": "@jupyter-widgets/controls",
          "model_module_version": "1.5.0",
          "model_name": "ProgressStyleModel",
          "state": {
            "_model_module": "@jupyter-widgets/controls",
            "_model_module_version": "1.5.0",
            "_model_name": "ProgressStyleModel",
            "_view_count": null,
            "_view_module": "@jupyter-widgets/base",
            "_view_module_version": "1.2.0",
            "_view_name": "StyleView",
            "bar_color": null,
            "description_width": ""
          }
        },
        "552023de6d9d431da24190cf8a0f539f": {
          "model_module": "@jupyter-widgets/controls",
          "model_module_version": "1.5.0",
          "model_name": "HBoxModel",
          "state": {
            "_dom_classes": [],
            "_model_module": "@jupyter-widgets/controls",
            "_model_module_version": "1.5.0",
            "_model_name": "HBoxModel",
            "_view_count": null,
            "_view_module": "@jupyter-widgets/controls",
            "_view_module_version": "1.5.0",
            "_view_name": "HBoxView",
            "box_style": "",
            "children": [
              "IPY_MODEL_addd83863a7e4930848fc3bdc2c60d65",
              "IPY_MODEL_bb0b0e3e94734938bec1652e6d3b7933",
              "IPY_MODEL_0c18aabde78d4d97bd0a12fa5b4b4e13"
            ],
            "layout": "IPY_MODEL_826ddc7ca5fe494a82272bac0dcf3bbc"
          }
        },
        "7d8893ce52bd47a5b592b16b3a7e551c": {
          "model_module": "@jupyter-widgets/controls",
          "model_module_version": "1.5.0",
          "model_name": "DescriptionStyleModel",
          "state": {
            "_model_module": "@jupyter-widgets/controls",
            "_model_module_version": "1.5.0",
            "_model_name": "DescriptionStyleModel",
            "_view_count": null,
            "_view_module": "@jupyter-widgets/base",
            "_view_module_version": "1.2.0",
            "_view_name": "StyleView",
            "description_width": ""
          }
        },
        "826ddc7ca5fe494a82272bac0dcf3bbc": {
          "model_module": "@jupyter-widgets/base",
          "model_module_version": "1.2.0",
          "model_name": "LayoutModel",
          "state": {
            "_model_module": "@jupyter-widgets/base",
            "_model_module_version": "1.2.0",
            "_model_name": "LayoutModel",
            "_view_count": null,
            "_view_module": "@jupyter-widgets/base",
            "_view_module_version": "1.2.0",
            "_view_name": "LayoutView",
            "align_content": null,
            "align_items": null,
            "align_self": null,
            "border": null,
            "bottom": null,
            "display": null,
            "flex": null,
            "flex_flow": null,
            "grid_area": null,
            "grid_auto_columns": null,
            "grid_auto_flow": null,
            "grid_auto_rows": null,
            "grid_column": null,
            "grid_gap": null,
            "grid_row": null,
            "grid_template_areas": null,
            "grid_template_columns": null,
            "grid_template_rows": null,
            "height": null,
            "justify_content": null,
            "justify_items": null,
            "left": null,
            "margin": null,
            "max_height": null,
            "max_width": null,
            "min_height": null,
            "min_width": null,
            "object_fit": null,
            "object_position": null,
            "order": null,
            "overflow": null,
            "overflow_x": null,
            "overflow_y": null,
            "padding": null,
            "right": null,
            "top": null,
            "visibility": null,
            "width": null
          }
        },
        "8d30a7d3db6446ec97ee25dc78c02209": {
          "model_module": "@jupyter-widgets/controls",
          "model_module_version": "1.5.0",
          "model_name": "DescriptionStyleModel",
          "state": {
            "_model_module": "@jupyter-widgets/controls",
            "_model_module_version": "1.5.0",
            "_model_name": "DescriptionStyleModel",
            "_view_count": null,
            "_view_module": "@jupyter-widgets/base",
            "_view_module_version": "1.2.0",
            "_view_name": "StyleView",
            "description_width": ""
          }
        },
        "a150327a9a564aa28f53b2e276f8c91b": {
          "model_module": "@jupyter-widgets/controls",
          "model_module_version": "1.5.0",
          "model_name": "HTMLModel",
          "state": {
            "_dom_classes": [],
            "_model_module": "@jupyter-widgets/controls",
            "_model_module_version": "1.5.0",
            "_model_name": "HTMLModel",
            "_view_count": null,
            "_view_module": "@jupyter-widgets/controls",
            "_view_module_version": "1.5.0",
            "_view_name": "HTMLView",
            "description": "",
            "description_tooltip": null,
            "layout": "IPY_MODEL_c94cb78f296e4e48b1043976d813ea5b",
            "placeholder": "​",
            "style": "IPY_MODEL_8d30a7d3db6446ec97ee25dc78c02209",
            "value": "model.safetensors: 100%"
          }
        },
        "addd83863a7e4930848fc3bdc2c60d65": {
          "model_module": "@jupyter-widgets/controls",
          "model_module_version": "1.5.0",
          "model_name": "HTMLModel",
          "state": {
            "_dom_classes": [],
            "_model_module": "@jupyter-widgets/controls",
            "_model_module_version": "1.5.0",
            "_model_name": "HTMLModel",
            "_view_count": null,
            "_view_module": "@jupyter-widgets/controls",
            "_view_module_version": "1.5.0",
            "_view_name": "HTMLView",
            "description": "",
            "description_tooltip": null,
            "layout": "IPY_MODEL_f69ac39fd09149cc800320b465ed4197",
            "placeholder": "​",
            "style": "IPY_MODEL_f570e2127dc64c6ea50ca0aeb78e7749",
            "value": "config.json: 100%"
          }
        },
        "b5386d133d1b4e7aa9e5f9e4994a5f68": {
          "model_module": "@jupyter-widgets/controls",
          "model_module_version": "1.5.0",
          "model_name": "DescriptionStyleModel",
          "state": {
            "_model_module": "@jupyter-widgets/controls",
            "_model_module_version": "1.5.0",
            "_model_name": "DescriptionStyleModel",
            "_view_count": null,
            "_view_module": "@jupyter-widgets/base",
            "_view_module_version": "1.2.0",
            "_view_name": "StyleView",
            "description_width": ""
          }
        },
        "b80208e9e90d49ad9dd14ee433bd2932": {
          "model_module": "@jupyter-widgets/base",
          "model_module_version": "1.2.0",
          "model_name": "LayoutModel",
          "state": {
            "_model_module": "@jupyter-widgets/base",
            "_model_module_version": "1.2.0",
            "_model_name": "LayoutModel",
            "_view_count": null,
            "_view_module": "@jupyter-widgets/base",
            "_view_module_version": "1.2.0",
            "_view_name": "LayoutView",
            "align_content": null,
            "align_items": null,
            "align_self": null,
            "border": null,
            "bottom": null,
            "display": null,
            "flex": null,
            "flex_flow": null,
            "grid_area": null,
            "grid_auto_columns": null,
            "grid_auto_flow": null,
            "grid_auto_rows": null,
            "grid_column": null,
            "grid_gap": null,
            "grid_row": null,
            "grid_template_areas": null,
            "grid_template_columns": null,
            "grid_template_rows": null,
            "height": null,
            "justify_content": null,
            "justify_items": null,
            "left": null,
            "margin": null,
            "max_height": null,
            "max_width": null,
            "min_height": null,
            "min_width": null,
            "object_fit": null,
            "object_position": null,
            "order": null,
            "overflow": null,
            "overflow_x": null,
            "overflow_y": null,
            "padding": null,
            "right": null,
            "top": null,
            "visibility": null,
            "width": null
          }
        },
        "bb0b0e3e94734938bec1652e6d3b7933": {
          "model_module": "@jupyter-widgets/controls",
          "model_module_version": "1.5.0",
          "model_name": "FloatProgressModel",
          "state": {
            "_dom_classes": [],
            "_model_module": "@jupyter-widgets/controls",
            "_model_module_version": "1.5.0",
            "_model_name": "FloatProgressModel",
            "_view_count": null,
            "_view_module": "@jupyter-widgets/controls",
            "_view_module_version": "1.5.0",
            "_view_name": "ProgressView",
            "bar_style": "success",
            "description": "",
            "description_tooltip": null,
            "layout": "IPY_MODEL_de6211049aa348e9ad5ae60eb628038a",
            "max": 432,
            "min": 0,
            "orientation": "horizontal",
            "style": "IPY_MODEL_fc8c166b6e7e4d8a94c5a0bd28a5f499",
            "value": 432
          }
        },
        "c94cb78f296e4e48b1043976d813ea5b": {
          "model_module": "@jupyter-widgets/base",
          "model_module_version": "1.2.0",
          "model_name": "LayoutModel",
          "state": {
            "_model_module": "@jupyter-widgets/base",
            "_model_module_version": "1.2.0",
            "_model_name": "LayoutModel",
            "_view_count": null,
            "_view_module": "@jupyter-widgets/base",
            "_view_module_version": "1.2.0",
            "_view_name": "LayoutView",
            "align_content": null,
            "align_items": null,
            "align_self": null,
            "border": null,
            "bottom": null,
            "display": null,
            "flex": null,
            "flex_flow": null,
            "grid_area": null,
            "grid_auto_columns": null,
            "grid_auto_flow": null,
            "grid_auto_rows": null,
            "grid_column": null,
            "grid_gap": null,
            "grid_row": null,
            "grid_template_areas": null,
            "grid_template_columns": null,
            "grid_template_rows": null,
            "height": null,
            "justify_content": null,
            "justify_items": null,
            "left": null,
            "margin": null,
            "max_height": null,
            "max_width": null,
            "min_height": null,
            "min_width": null,
            "object_fit": null,
            "object_position": null,
            "order": null,
            "overflow": null,
            "overflow_x": null,
            "overflow_y": null,
            "padding": null,
            "right": null,
            "top": null,
            "visibility": null,
            "width": null
          }
        },
        "de6211049aa348e9ad5ae60eb628038a": {
          "model_module": "@jupyter-widgets/base",
          "model_module_version": "1.2.0",
          "model_name": "LayoutModel",
          "state": {
            "_model_module": "@jupyter-widgets/base",
            "_model_module_version": "1.2.0",
            "_model_name": "LayoutModel",
            "_view_count": null,
            "_view_module": "@jupyter-widgets/base",
            "_view_module_version": "1.2.0",
            "_view_name": "LayoutView",
            "align_content": null,
            "align_items": null,
            "align_self": null,
            "border": null,
            "bottom": null,
            "display": null,
            "flex": null,
            "flex_flow": null,
            "grid_area": null,
            "grid_auto_columns": null,
            "grid_auto_flow": null,
            "grid_auto_rows": null,
            "grid_column": null,
            "grid_gap": null,
            "grid_row": null,
            "grid_template_areas": null,
            "grid_template_columns": null,
            "grid_template_rows": null,
            "height": null,
            "justify_content": null,
            "justify_items": null,
            "left": null,
            "margin": null,
            "max_height": null,
            "max_width": null,
            "min_height": null,
            "min_width": null,
            "object_fit": null,
            "object_position": null,
            "order": null,
            "overflow": null,
            "overflow_x": null,
            "overflow_y": null,
            "padding": null,
            "right": null,
            "top": null,
            "visibility": null,
            "width": null
          }
        },
        "f570e2127dc64c6ea50ca0aeb78e7749": {
          "model_module": "@jupyter-widgets/controls",
          "model_module_version": "1.5.0",
          "model_name": "DescriptionStyleModel",
          "state": {
            "_model_module": "@jupyter-widgets/controls",
            "_model_module_version": "1.5.0",
            "_model_name": "DescriptionStyleModel",
            "_view_count": null,
            "_view_module": "@jupyter-widgets/base",
            "_view_module_version": "1.2.0",
            "_view_name": "StyleView",
            "description_width": ""
          }
        },
        "f69ac39fd09149cc800320b465ed4197": {
          "model_module": "@jupyter-widgets/base",
          "model_module_version": "1.2.0",
          "model_name": "LayoutModel",
          "state": {
            "_model_module": "@jupyter-widgets/base",
            "_model_module_version": "1.2.0",
            "_model_name": "LayoutModel",
            "_view_count": null,
            "_view_module": "@jupyter-widgets/base",
            "_view_module_version": "1.2.0",
            "_view_name": "LayoutView",
            "align_content": null,
            "align_items": null,
            "align_self": null,
            "border": null,
            "bottom": null,
            "display": null,
            "flex": null,
            "flex_flow": null,
            "grid_area": null,
            "grid_auto_columns": null,
            "grid_auto_flow": null,
            "grid_auto_rows": null,
            "grid_column": null,
            "grid_gap": null,
            "grid_row": null,
            "grid_template_areas": null,
            "grid_template_columns": null,
            "grid_template_rows": null,
            "height": null,
            "justify_content": null,
            "justify_items": null,
            "left": null,
            "margin": null,
            "max_height": null,
            "max_width": null,
            "min_height": null,
            "min_width": null,
            "object_fit": null,
            "object_position": null,
            "order": null,
            "overflow": null,
            "overflow_x": null,
            "overflow_y": null,
            "padding": null,
            "right": null,
            "top": null,
            "visibility": null,
            "width": null
          }
        },
        "fc8c166b6e7e4d8a94c5a0bd28a5f499": {
          "model_module": "@jupyter-widgets/controls",
          "model_module_version": "1.5.0",
          "model_name": "ProgressStyleModel",
          "state": {
            "_model_module": "@jupyter-widgets/controls",
            "_model_module_version": "1.5.0",
            "_model_name": "ProgressStyleModel",
            "_view_count": null,
            "_view_module": "@jupyter-widgets/base",
            "_view_module_version": "1.2.0",
            "_view_name": "StyleView",
            "bar_color": null,
            "description_width": ""
          }
        },
        "ff6aacffdf444fbb9bb2b68209329b99": {
          "model_module": "@jupyter-widgets/controls",
          "model_module_version": "1.5.0",
          "model_name": "FloatProgressModel",
          "state": {
            "_dom_classes": [],
            "_model_module": "@jupyter-widgets/controls",
            "_model_module_version": "1.5.0",
            "_model_name": "FloatProgressModel",
            "_view_count": null,
            "_view_module": "@jupyter-widgets/controls",
            "_view_module_version": "1.5.0",
            "_view_name": "ProgressView",
            "bar_style": "success",
            "description": "",
            "description_tooltip": null,
            "layout": "IPY_MODEL_085cd36043f14f19bb333637634d2341",
            "max": 812672320,
            "min": 0,
            "orientation": "horizontal",
            "style": "IPY_MODEL_480471c1b49b43ff80df3ac4638ec548",
            "value": 812672320
          }
        }
      }
    }
  },
  "nbformat": 4,
  "nbformat_minor": 0
}
