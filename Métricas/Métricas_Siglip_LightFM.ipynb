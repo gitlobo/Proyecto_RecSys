{
 "cells": [
  {
   "cell_type": "markdown",
   "metadata": {
    "id": "K4rLHlatdo5z"
   },
   "source": [
    "Instalación e importación de librerías"
   ]
  },
  {
   "cell_type": "code",
   "execution_count": 47,
   "metadata": {
    "colab": {
     "base_uri": "https://localhost:8080/"
    },
    "id": "wtYEwY31dtWv",
    "outputId": "eae0e030-c59f-4143-b8cc-81f84b476c2e"
   },
   "outputs": [
    {
     "name": "stdout",
     "output_type": "stream",
     "text": [
      "Requirement already satisfied: lightfm in /usr/local/lib/python3.10/dist-packages (1.17)\n",
      "Requirement already satisfied: numpy in /usr/local/lib/python3.10/dist-packages (from lightfm) (1.26.4)\n",
      "Requirement already satisfied: scipy>=0.17.0 in /usr/local/lib/python3.10/dist-packages (from lightfm) (1.13.1)\n",
      "Requirement already satisfied: requests in /usr/local/lib/python3.10/dist-packages (from lightfm) (2.32.3)\n",
      "Requirement already satisfied: scikit-learn in /usr/local/lib/python3.10/dist-packages (from lightfm) (1.5.2)\n",
      "Requirement already satisfied: charset-normalizer<4,>=2 in /usr/local/lib/python3.10/dist-packages (from requests->lightfm) (3.4.0)\n",
      "Requirement already satisfied: idna<4,>=2.5 in /usr/local/lib/python3.10/dist-packages (from requests->lightfm) (3.10)\n",
      "Requirement already satisfied: urllib3<3,>=1.21.1 in /usr/local/lib/python3.10/dist-packages (from requests->lightfm) (2.2.3)\n",
      "Requirement already satisfied: certifi>=2017.4.17 in /usr/local/lib/python3.10/dist-packages (from requests->lightfm) (2024.8.30)\n",
      "Requirement already satisfied: joblib>=1.2.0 in /usr/local/lib/python3.10/dist-packages (from scikit-learn->lightfm) (1.4.2)\n",
      "Requirement already satisfied: threadpoolctl>=3.1.0 in /usr/local/lib/python3.10/dist-packages (from scikit-learn->lightfm) (3.5.0)\n",
      "Requirement already satisfied: psutil in /usr/local/lib/python3.10/dist-packages (5.9.5)\n"
     ]
    }
   ],
   "source": [
    "!pip install lightfm\n",
    "!pip install psutil"
   ]
  },
  {
   "cell_type": "code",
   "execution_count": null,
   "metadata": {
    "id": "7oZ16BvvduxE"
   },
   "outputs": [],
   "source": [
    "import numpy as np\n",
    "import pandas as pd\n",
    "from collections import Counter, defaultdict\n",
    "from sklearn.preprocessing import normalize\n",
    "from scipy.sparse import coo_matrix, csr_matrix, lil_matrix\n",
    "from sklearn.model_selection import train_test_split\n",
    "from lightfm import LightFM\n",
    "from lightfm.evaluation import precision_at_k, recall_at_k, auc_score\n",
    "import kagglehub\n",
    "from transformers import SiglipModel, SiglipProcessor\n",
    "import torch\n",
    "import requests\n",
    "from PIL import Image\n",
    "import os\n",
    "import psutil\n",
    "import time\n",
    "import pickle\n",
    "import joblib\n",
    "from joblib import Parallel, delayed\n",
    "from sklearn.decomposition import TruncatedSVD"
   ]
  },
  {
   "cell_type": "markdown",
   "metadata": {
    "id": "UAwFL8QKd8Jt"
   },
   "source": [
    "Descargar datos y filtrarlos"
   ]
  },
  {
   "cell_type": "code",
   "execution_count": null,
   "metadata": {
    "colab": {
     "base_uri": "https://localhost:8080/"
    },
    "id": "h-yqiQfQd97K",
    "outputId": "97747086-357c-4fbb-e0d3-66321b73207d"
   },
   "outputs": [
    {
     "name": "stdout",
     "output_type": "stream",
     "text": [
      "Path to dataset files: /root/.cache/kagglehub/datasets/threnjen/board-games-database-from-boardgamegeek/versions/4\n",
      "/root/.cache/kagglehub/datasets/threnjen/board-games-database-from-boardgamegeek/versions/4\n",
      "Ejemplo de descripciones:\n",
      "['die macher game seven sequential political race different region germany player charge national political party manage limited resource help party victory win party victory point regional election different way score victory point regional election supply eighty victory point depend size region party second party win regional election medium influence region party receive mediacontrol victory point party national party membership grow game progress supply fair number victory point lastly party score victory point party platform match national opinion end gamethe   edition feature party old west germany support   player   edition support player reunite germany update feature rule     edition support player add short fiveround variant additional rule update original designer', 'dragonmaster tricktaking card game base old game call coup dtat player give supply plastic gem represent point player dealer different hand slightly different goal hand card deal dealer decide hand good suit current card player penalize point form crystal take certain trick card instance quotfirstquot quotlastquot call player penalize take trick player chance dealer hand player steal opportunity take trick certain hand end big pile gem win gamejewel content clear   extra green   extra red   extra blue   extra', 'samurai set medieval japan player compete gain favor faction samurai peasant priest represent helmet rice paddy buddha figure scatter board feature island japan competition wage use hexagonal tile help curry favor faction mdash player lightningquick strike horseback ronin ship approach conquest methodically figure helmet rice paddy buddha surround award player gain favor corresponding groupgameplay continue symbol type remove board figure remove play tie influenceat end game player compare capture symbol type compete majority type tie uncommon break base number quotnonmajorityquot symbol player collectedthe game call knizia tilelaye trilogy', 'triangular box luxurious large block tal der koumlnige german quotvalley kingsquot tell game design beautiful functional   object game build pyramid different color block   pyramid score point color hard consistently outbid player necessary block   game pharoah pyramid center complete build block player nt use course gamefinal round   hippodice spieleautorenwettbewerb', 'acquire player strategically invest business try retain majority stock   business grow tile placement start merge give majority stockholder acquire business sizable bonus reinvest chain   investor acquire company cash stock current value trade share newer large business   game race acquire great wealthhistory acquire sid sackson classic take different form year depend publisher rule game play stay   version m bookshelf edition include rule player variant original version m bookshelf seriesmany book website incorrectly list   publication m company previously copyright artwork release game   m actually receive idea game quotvacationsquot sid sackson   decide idea artwork develop year game call quotacquirequot ms original game idea game call acquire good decide sid idea vacation concept acquire release limited test market game   midwestern city december   box   copyright game sid original rule m release mass market game   take liberty sid original idea change rule game play match production desire release outer box copyright   inner box rule date december    test market world map wood tile edition   date   wood tile chipboard plastic overlay amp stock print back   date   plastic tile chipboard plastic overlay amp stock print back edition print back    date   plastic tile chipboard plastic overlay amp nonwax coat stock edition stock   date   plastic tile clear plastic board paper underlay   inner box game lot mixed part   date   plastic tile yellow hard plastic board   m sell right game acquire avalon hill company   date   plastic tile yellow hard plastic board redesign money inner box edition produce            amp    date   gray box edition new box artwork content regular   edition edition produce    date   large box cardboard edition chipboard board tile special power variant tile inspire german edition   avalon hill sell right game acquire hasbro   date   large box large plastic board tile d company building redesign stock amp money large info card   hasbro assign right game acquire subsidiary wizard coast   lloyd rule acquire public major rule change help bring balance game acquire   intention sid sackson original idea    date   cardboard edition chipboard board amp tile redesign stock amp money   date   current affordable massmarket edition look sight similar previous modern edition criticise use inferior design choice hardtoread greyongrey emboss slot unusual tile font contain modify rule slightly small playing grid change criticise ultimately improve sackson original design generally regard damaging']\n",
      "\n",
      "Ejemplo de rutas de imágenes:\n",
      "['https://cf.geekdo-images.com/rpwCZAjYLD940NWwP3SRoA__original/img/yR0aoBVKNrAmmCuBeSzQnMflLYg=/0x0/filters:format(jpeg)/pic4718279.jpg', 'https://cf.geekdo-images.com/oQYhaJx5Lg3KcGis2reuWQ__original/img/owag4VgJDPyPt2ciYB9Hc5l4GnQ=/0x0/filters:format(jpeg)/pic4001505.jpg', 'https://cf.geekdo-images.com/o9-sNXmFS_TLAb7ZlZ4dRA__original/img/TPKZgpNxB_C73RNbhKyP6UR76X0=/0x0/filters:format(jpeg)/pic3211873.jpg', 'https://cf.geekdo-images.com/nYiYhUlatT2DpyXaJqXK3w__original/img/2NNluROL0K_q4H8yMxIyoiHXnxc=/0x0/filters:format(jpeg)/pic285299.jpg', 'https://cf.geekdo-images.com/3C--kJRhi6kTPHsr9dNaWw__original/img/WeRigNSL9w0EP12b2EJfpHoh4M0=/0x0/filters:format(jpeg)/pic3299296.jpg']\n"
     ]
    }
   ],
   "source": [
    "path = kagglehub.dataset_download(\"threnjen/board-games-database-from-boardgamegeek/versions/4\")\n",
    "print(\"Path to dataset files:\", path)\n",
    "\n",
    "%cd /root/.cache/kagglehub/datasets/threnjen/board-games-database-from-boardgamegeek/versions/4\n",
    "\n",
    "games_df = pd.read_csv(\"games.csv\")\n",
    "user_ratings_df = pd.read_csv(\"user_ratings.csv\")\n",
    "\n",
    "games_df_filtered = games_df[[\"BGGId\", \"Description\", \"ImagePath\"]].dropna().head(100)\n",
    "texts = games_df_filtered[\"Description\"].tolist()\n",
    "image_paths = games_df_filtered[\"ImagePath\"].tolist()\n",
    "\n",
    "print(\"Ejemplo de descripciones:\")\n",
    "print(texts[:5])\n",
    "print(\"\\nEjemplo de rutas de imágenes:\")\n",
    "print(image_paths[:5])"
   ]
  },
  {
   "cell_type": "markdown",
   "metadata": {
    "id": "FYbQrqT4d-gF"
   },
   "source": [
    "Generación de embeddings"
   ]
  },
  {
   "cell_type": "code",
   "execution_count": 50,
   "metadata": {
    "id": "BUnsnHC4eUpK"
   },
   "outputs": [],
   "source": [
    "model_name = \"google/siglip-base-patch16-224\"\n",
    "model = SiglipModel.from_pretrained(model_name)\n",
    "processor = SiglipProcessor.from_pretrained(model_name)"
   ]
  },
  {
   "cell_type": "markdown",
   "metadata": {
    "id": "0bl-SW8QeFMc"
   },
   "source": [
    "Cargar embeddings"
   ]
  },
  {
   "cell_type": "code",
   "execution_count": 52,
   "metadata": {
    "colab": {
     "base_uri": "https://localhost:8080/"
    },
    "id": "-JbpfyXbeIt8",
    "outputId": "b9ecf5f1-8fb1-4eca-cbdc-10f36461bcc9"
   },
   "outputs": [
    {
     "name": "stdout",
     "output_type": "stream",
     "text": [
      "Cargando embeddings pre-generados desde archivos .pt...\n",
      "Embeddings de texto cargados: torch.Size([100, 768])\n",
      "Embeddings de imágenes cargados: torch.Size([100, 768])\n",
      "Embeddings multimodales cargados: torch.Size([100, 768])\n"
     ]
    },
    {
     "name": "stderr",
     "output_type": "stream",
     "text": [
      "<ipython-input-52-b4df2e1cfc5a>:2: FutureWarning: You are using `torch.load` with `weights_only=False` (the current default value), which uses the default pickle module implicitly. It is possible to construct malicious pickle data which will execute arbitrary code during unpickling (See https://github.com/pytorch/pytorch/blob/main/SECURITY.md#untrusted-models for more details). In a future release, the default value for `weights_only` will be flipped to `True`. This limits the functions that could be executed during unpickling. Arbitrary objects will no longer be allowed to be loaded via this mode unless they are explicitly allowlisted by the user via `torch.serialization.add_safe_globals`. We recommend you start setting `weights_only=True` for any use case where you don't have full control of the loaded file. Please open an issue on GitHub for any issues related to this experimental feature.\n",
      "  siglip_text_embeds = torch.load(\"/content/text_embeddings.pt\")\n",
      "<ipython-input-52-b4df2e1cfc5a>:3: FutureWarning: You are using `torch.load` with `weights_only=False` (the current default value), which uses the default pickle module implicitly. It is possible to construct malicious pickle data which will execute arbitrary code during unpickling (See https://github.com/pytorch/pytorch/blob/main/SECURITY.md#untrusted-models for more details). In a future release, the default value for `weights_only` will be flipped to `True`. This limits the functions that could be executed during unpickling. Arbitrary objects will no longer be allowed to be loaded via this mode unless they are explicitly allowlisted by the user via `torch.serialization.add_safe_globals`. We recommend you start setting `weights_only=True` for any use case where you don't have full control of the loaded file. Please open an issue on GitHub for any issues related to this experimental feature.\n",
      "  siglip_image_embeds = torch.load(\"/content/image_embeddings.pt\")\n",
      "<ipython-input-52-b4df2e1cfc5a>:4: FutureWarning: You are using `torch.load` with `weights_only=False` (the current default value), which uses the default pickle module implicitly. It is possible to construct malicious pickle data which will execute arbitrary code during unpickling (See https://github.com/pytorch/pytorch/blob/main/SECURITY.md#untrusted-models for more details). In a future release, the default value for `weights_only` will be flipped to `True`. This limits the functions that could be executed during unpickling. Arbitrary objects will no longer be allowed to be loaded via this mode unless they are explicitly allowlisted by the user via `torch.serialization.add_safe_globals`. We recommend you start setting `weights_only=True` for any use case where you don't have full control of the loaded file. Please open an issue on GitHub for any issues related to this experimental feature.\n",
      "  siglip_multimodal_embeds = torch.load(\"/content/multimodal_embeddings.pt\")\n"
     ]
    }
   ],
   "source": [
    "print(\"Cargando embeddings pre-generados desde archivos .pt...\")\n",
    "siglip_text_embeds = torch.load(\"/content/SIGLIP_text_embeddings.pt\")\n",
    "siglip_image_embeds = torch.load(\"/content/SIGLIP_image_embeddings.pt\")\n",
    "siglip_multimodal_embeds = torch.load(\"/content/SIGLIP_multimodal_embeddings.pt\")\n",
    "\n",
    "print(\"Embeddings de texto cargados:\", siglip_text_embeds.shape)\n",
    "print(\"Embeddings de imágenes cargados:\", siglip_image_embeds.shape)\n",
    "print(\"Embeddings multimodales cargados:\", siglip_multimodal_embeds.shape)"
   ]
  },
  {
   "cell_type": "markdown",
   "metadata": {
    "id": "zIr4as0aeLRU"
   },
   "source": [
    "Normalizar embeddings"
   ]
  },
  {
   "cell_type": "code",
   "execution_count": null,
   "metadata": {
    "id": "luwow0wFeZ6y"
   },
   "outputs": [],
   "source": [
    "text_embeds = normalize(siglip_text_embeds.numpy()).astype(np.float32).copy() \n",
    "image_embeds = normalize(siglip_image_embeds.numpy()).astype(np.float32).copy() \n",
    "multimodal_embeds = normalize(siglip_multimodal_embeds.numpy()).astype(np.float32).copy() "
   ]
  },
  {
   "cell_type": "code",
   "execution_count": null,
   "metadata": {
    "id": "u4hoLKUtem98"
   },
   "outputs": [],
   "source": [
    "def normalize_embeddings(embeds, target_dim=128):\n",
    "    svd = TruncatedSVD(n_components=target_dim, random_state=42)\n",
    "    return svd.fit_transform(embeds)\n",
    "\n",
    "text_embeds = normalize_embeddings(text_embeds)\n",
    "image_embeds = normalize_embeddings(image_embeds)\n",
    "multimodal_embeds = normalize_embeddings(multimodal_embeds)"
   ]
  },
  {
   "cell_type": "markdown",
   "metadata": {
    "id": "BSFHmOlce3GZ"
   },
   "source": [
    "Mapear juegos y usuarios a índices y consruir características de ítems alineadas con game mapping"
   ]
  },
  {
   "cell_type": "code",
   "execution_count": null,
   "metadata": {
    "id": "a7hAl5djet-Z"
   },
   "outputs": [],
   "source": [
    "game_mapping = {game: idx for idx, game in enumerate(games_df_filtered[\"BGGId\"])}\n",
    "user_mapping = {user: idx for idx, user in enumerate(user_ratings_df[\"Username\"].unique())}\n",
    "\n",
    "filtered_ratings = user_ratings_df[user_ratings_df[\"BGGId\"].isin(games_df_filtered[\"BGGId\"])]\n",
    "\n",
    "interactions = coo_matrix((\n",
    "    filtered_ratings[\"Rating\"].values,\n",
    "    (\n",
    "        filtered_ratings[\"Username\"].map(user_mapping),\n",
    "        filtered_ratings[\"BGGId\"].map(game_mapping)\n",
    "    )\n",
    ")).tocsr().astype(np.float32).copy()"
   ]
  },
  {
   "cell_type": "code",
   "execution_count": null,
   "metadata": {
    "id": "-E-Zg5wXewdS"
   },
   "outputs": [],
   "source": [
    "def build_item_features(embeddings, game_mapping):\n",
    "    num_items = len(game_mapping)\n",
    "    embedding_dim = embeddings.shape[1]\n",
    "\n",
    "    features = lil_matrix((num_items, embedding_dim), dtype=np.float32)\n",
    "    for game_id, idx in game_mapping.items():\n",
    "        if idx < len(embeddings):\n",
    "            features[idx, :] = embeddings[idx]\n",
    "\n",
    "    return csr_matrix(features).copy() \n",
    "\n",
    "text_features = build_item_features(text_embeds, game_mapping)\n",
    "image_features = build_item_features(image_embeds, game_mapping)\n",
    "multimodal_features = build_item_features(multimodal_embeds, game_mapping)"
   ]
  },
  {
   "cell_type": "markdown",
   "metadata": {
    "id": "DxTHBWTee8oB"
   },
   "source": [
    "Definir funciones para el cálculo de métricas"
   ]
  },
  {
   "cell_type": "code",
   "execution_count": 67,
   "metadata": {
    "colab": {
     "base_uri": "https://localhost:8080/"
    },
    "id": "z3g2I5QmfCSf",
    "outputId": "15dd2a80-f8b0-4d66-e96e-1ba9977a2425"
   },
   "outputs": [
    {
     "name": "stdout",
     "output_type": "stream",
     "text": [
      "Ejemplo de categorías de ítems: [(1, 'Economic|Political'), (2, 'Fantasy'), (3, 'Medieval|Theme_Samurai'), (4, 'Ancient'), (5, 'Economic')]\n"
     ]
    }
   ],
   "source": [
    "game_themes_df = pd.read_csv(\"themes.csv\")\n",
    "user_ratings_df = pd.read_csv(\"user_ratings.csv\")\n",
    "\n",
    "category_columns = game_themes_df.columns[1:]\n",
    "\n",
    "item_categories = {}\n",
    "for _, row in game_themes_df.iterrows():\n",
    "    game_id = row[\"BGGId\"]\n",
    "    categories = [category for category in category_columns if row[category] == 1]\n",
    "    item_categories[game_id] = \"|\".join(categories)\n",
    "\n",
    "print(f\"Ejemplo de categorías de ítems: {list(item_categories.items())[:5]}\")\n",
    "\n",
    "def calculate_items_popularity(user_ratings_df):\n",
    "    item_counts = Counter(user_ratings_df[\"BGGId\"])\n",
    "    total_ratings = sum(item_counts.values())\n",
    "    items_popularity = {item: count / total_ratings for item, count in item_counts.items()}\n",
    "    return items_popularity\n",
    "\n",
    "items_popularity = calculate_items_popularity(user_ratings_df)"
   ]
  },
  {
   "cell_type": "code",
   "execution_count": null,
   "metadata": {
    "id": "B7Ub8xRqfM3y"
   },
   "outputs": [],
   "source": [
    "def evaluate_user(model, user_id, interactions, item_features, k=10, index_to_item_id=None, item_categories=None, items_popularity=None):\n",
    "    positive_items = interactions.tocsr()[user_id].indices\n",
    "    if len(positive_items) == 0:\n",
    "        return (0.0, 0.0, 0.0, 0.0, 0.0)\n",
    "\n",
    "    user_id = int(user_id) \n",
    "    scores = model.predict(user_id, np.arange(interactions.shape[1]), item_features=item_features)\n",
    "    ranked_items = np.argsort(-scores)[:k]\n",
    "\n",
    "    top_k_item_ids = [index_to_item_id[item_idx] for item_idx in ranked_items]\n",
    "\n",
    "    ap = 0.0\n",
    "    ndcg = 0.0\n",
    "    num_hits = 0.0\n",
    "    for i, item in enumerate(ranked_items):\n",
    "        if item in positive_items:\n",
    "            num_hits += 1\n",
    "            ap += num_hits / (i + 1)\n",
    "            ndcg += 1 / np.log2(i + 2)\n",
    "    ap /= min(k, len(positive_items))\n",
    "    ndcg /= min(k, len(positive_items))\n",
    "    recall = num_hits / len(positive_items)\n",
    "\n",
    "    div = diversity(top_k_item_ids, item_categories)\n",
    "    nov = novelty(top_k_item_ids, items_popularity)\n",
    "\n",
    "    return (ap, ndcg, recall, div, nov)\n",
    "\n",
    "def evaluate_ranking_lightfm_model(model, interactions, item_features=None, k=10, num_users_to_evaluate=50, num_jobs=-1):\n",
    "    num_users, num_items = interactions.shape\n",
    "    mean_ap = 0.0\n",
    "    mean_ndcg = 0.0\n",
    "    mean_recall = 0.0\n",
    "    total_diversity = 0.0\n",
    "    total_novelty = 0.0\n",
    "    users_with_positive = 0\n",
    "    index_to_item_id = {idx: item_id for item_id, idx in game_mapping.items()}\n",
    "    if num_users > num_users_to_evaluate:\n",
    "        sampled_user_ids = np.random.choice(num_users, size=num_users_to_evaluate, replace=False)\n",
    "    else:\n",
    "        sampled_user_ids = np.arange(num_users)\n",
    "\n",
    "    def evaluate_single_user(user_id):\n",
    "        return evaluate_user(model, user_id, interactions, item_features, k, index_to_item_id, item_categories, items_popularity)\n",
    "\n",
    "    results = Parallel(n_jobs=num_jobs, backend='threading')(\n",
    "    delayed(evaluate_single_user)(user_id) for user_id in sampled_user_ids\n",
    ")\n",
    "    for ap, ndcg, recall, div, nov in results:\n",
    "        if ap > 0 or ndcg > 0 or recall > 0:\n",
    "            mean_ap += ap\n",
    "            mean_ndcg += ndcg\n",
    "            mean_recall += recall\n",
    "            total_diversity += div\n",
    "            total_novelty += nov\n",
    "            users_with_positive +=1\n",
    "\n",
    "    if users_with_positive > 0:\n",
    "        mean_ap /= users_with_positive\n",
    "        mean_ndcg /= users_with_positive\n",
    "        mean_recall /= users_with_positive\n",
    "        avg_diversity = total_diversity / users_with_positive\n",
    "        avg_novelty = total_novelty / users_with_positive\n",
    "    else:\n",
    "        mean_ap, mean_ndcg, mean_recall = 0.0, 0.0, 0.0\n",
    "        avg_diversity, avg_novelty = 0.0, 0.0\n",
    "\n",
    "    return mean_ap, mean_ndcg, mean_recall, avg_diversity, avg_novelty\n",
    "\n",
    "def diversity(recommended_items, item_categories):\n",
    "    unique_categories = set()\n",
    "    for item in recommended_items:\n",
    "        categories = item_categories.get(item, \"unknown\").split(\"|\")\n",
    "        unique_categories.update(categories)\n",
    "    return len(unique_categories) / len(recommended_items) if recommended_items else 0\n",
    "\n",
    "def novelty(recommended_items, items_popularity):\n",
    "    novelty_score = 0.0\n",
    "    for item in recommended_items:\n",
    "        popularity = items_popularity.get(item, 1e-9)\n",
    "        novelty_score += -np.log2(popularity)\n",
    "    return novelty_score / len(recommended_items) if recommended_items else 0"
   ]
  },
  {
   "cell_type": "markdown",
   "metadata": {
    "id": "7GI5ajAffPfe"
   },
   "source": [
    "Funciones para guardar y cargar modelo"
   ]
  },
  {
   "cell_type": "code",
   "execution_count": 59,
   "metadata": {
    "id": "RAhcrka8fRf8"
   },
   "outputs": [],
   "source": [
    "def save_model(model, filename, drive_path=\"/content/drive/MyDrive/models/\"):\n",
    "    os.makedirs(drive_path, exist_ok=True)\n",
    "    joblib.dump(model, os.path.join(drive_path, filename))\n",
    "    print(f\"Model saved to {drive_path}{filename}\")\n",
    "\n",
    "def load_model(filename, drive_path=\"/content/drive/MyDrive/models/\"):\n",
    "    return joblib.load(os.path.join(drive_path, filename))"
   ]
  },
  {
   "cell_type": "markdown",
   "metadata": {
    "id": "EXkWsA93fgyu"
   },
   "source": [
    "Entrenamiento del modelo"
   ]
  },
  {
   "cell_type": "code",
   "execution_count": null,
   "metadata": {
    "id": "Dr0rYetsfiLI"
   },
   "outputs": [],
   "source": [
    "def train_and_evaluate(interactions, item_features, name, save=True, num_users_to_evaluate=50):\n",
    "    start_time = time.time()\n",
    "    model = LightFM(loss='warp', random_state=42)\n",
    "    model.fit(interactions, item_features=item_features, epochs=10, num_threads=4)\n",
    "    training_time = time.time() - start_time\n",
    "    process = psutil.Process(os.getpid())\n",
    "    memory_info = process.memory_info()\n",
    "    memory_used = memory_info.rss / (1024 * 1024) \n",
    "    cpu_usage = psutil.cpu_percent(interval=1)\n",
    "\n",
    "    if save:\n",
    "        save_model(model, f\"{name}_model.pkl\")\n",
    "\n",
    "    precision = precision_at_k(model, interactions, k=10).mean()\n",
    "    recall_lightfm = recall_at_k(model, interactions, k=10).mean()\n",
    "    mean_ap, mean_ndcg, mean_recall, avg_diversity, avg_novelty = evaluate_ranking_lightfm_model(\n",
    "        model, interactions, item_features, k=10, num_users_to_evaluate=num_users_to_evaluate, num_jobs=-1\n",
    "    )\n",
    "\n",
    "    print(f\"{name} Metrics:\")\n",
    "    print(f\"Training Time: {training_time:.2f} seconds\")\n",
    "    print(f\"Memory Used: {memory_used:.2f} MB\")\n",
    "    print(f\"CPU Usage: {cpu_usage:.2f}%\")\n",
    "    print(f\"Precision@10: {precision}\")\n",
    "    print(f\"Recall@10 (LightFM): {recall_lightfm}\")\n",
    "    print(f\"MAP@10: {mean_ap}\")\n",
    "    print(f\"NDCG@10: {mean_ndcg}\")\n",
    "    print(f\"Recall@10 (Custom): {mean_recall}\")\n",
    "    print(f\"Diversity@10: {avg_diversity}\")\n",
    "    print(f\"Novelty@10: {avg_novelty}\")\n",
    "    print()\n"
   ]
  },
  {
   "cell_type": "markdown",
   "metadata": {
    "id": "hlUGNadPfpj0"
   },
   "source": [
    "Entrenar  evaluar modelo"
   ]
  },
  {
   "cell_type": "code",
   "execution_count": null,
   "metadata": {
    "colab": {
     "base_uri": "https://localhost:8080/"
    },
    "id": "l3d0p4mSfrMF",
    "outputId": "ff194ce4-9a12-48bf-a0f0-a66aa90cfb3e"
   },
   "outputs": [
    {
     "name": "stdout",
     "output_type": "stream",
     "text": [
      "Model saved to /content/drive/MyDrive/models/Siglip_TextEmbeddings_model.pkl\n",
      "precidion y recall ok\n",
      "Siglip_TextEmbeddings Metrics:\n",
      "Training Time: 71.92 seconds\n",
      "Memory Used: 3384.44 MB\n",
      "CPU Usage: 14.60%\n",
      "Precision@10: 0.034672897309064865\n",
      "Recall@10 (LightFM): 0.10562329143111987\n",
      "MAP@10: 0.09491798941798943\n",
      "NDCG@10: 0.14972820810766632\n",
      "Recall@10 (Custom): 0.34079365079365076\n",
      "Diversity@10: 1.0\n",
      "Novelty@10: 13.452978115941514\n",
      "\n",
      "Model saved to /content/drive/MyDrive/models/Siglip_ImageEmbeddings_model.pkl\n",
      "precidion y recall ok\n",
      "Siglip_ImageEmbeddings Metrics:\n",
      "Training Time: 72.24 seconds\n",
      "Memory Used: 3401.87 MB\n",
      "CPU Usage: 3.00%\n",
      "Precision@10: 0.0352298803627491\n",
      "Recall@10 (LightFM): 0.09963953854171333\n",
      "MAP@10: 0.10615079365079365\n",
      "NDCG@10: 0.11897457737129973\n",
      "Recall@10 (Custom): 0.2205387205387205\n",
      "Diversity@10: 1.0\n",
      "Novelty@10: 13.452978115941514\n",
      "\n",
      "Model saved to /content/drive/MyDrive/models/Siglip_MultimodalEmbeddings_model.pkl\n",
      "precidion y recall ok\n",
      "Siglip_MultimodalEmbeddings Metrics:\n",
      "Training Time: 74.96 seconds\n",
      "Memory Used: 3405.54 MB\n",
      "CPU Usage: 1.50%\n",
      "Precision@10: 0.03316807001829147\n",
      "Recall@10 (LightFM): 0.10009686999988694\n",
      "MAP@10: 0.08928571428571427\n",
      "NDCG@10: 0.19082527880786904\n",
      "Recall@10 (Custom): 0.5357142857142857\n",
      "Diversity@10: 1.2\n",
      "Novelty@10: 12.652898091024976\n",
      "\n"
     ]
    }
   ],
   "source": [
    "train_and_evaluate(interactions, text_features, \"Siglip_TextEmbeddings\", num_users_to_evaluate=50)\n",
    "train_and_evaluate(interactions, image_features, \"Siglip_ImageEmbeddings\", num_users_to_evaluate=50)\n",
    "train_and_evaluate(interactions, multimodal_features, \"Siglip_MultimodalEmbeddings\", num_users_to_evaluate=50)"
   ]
  },
  {
   "cell_type": "markdown",
   "metadata": {},
   "source": [
    "Bibliografía:"
   ]
  },
  {
   "cell_type": "markdown",
   "metadata": {},
   "source": [
    "Referencia a la documentación oficial:\n",
    "\n",
    "LightFM. LightFM Documentation. Disponible en: https://making.lyst.com/lightfm/docs/home.html\n",
    "\n",
    "Referencia al repositorio en GitHub:\n",
    "\n",
    "LightFM. LightFM GitHub Repository. Disponible en: https://github.com/lyst/lightfm\n",
    "\n",
    "Referencia al repositorio de GitHub del práctico\n",
    "\n",
    "https://github.com/PUC-RecSys-Class/RecSysPUC-2024-2/blob/master/practicos/pr%C3%A1ctico_m%C3%A9tricas.ipynb\n"
   ]
  }
 ],
 "metadata": {
  "accelerator": "GPU",
  "colab": {
   "gpuType": "T4",
   "provenance": []
  },
  "kernelspec": {
   "display_name": "Python 3",
   "name": "python3"
  },
  "language_info": {
   "name": "python"
  }
 },
 "nbformat": 4,
 "nbformat_minor": 0
}
